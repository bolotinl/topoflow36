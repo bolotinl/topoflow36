{
 "cells": [
  {
   "cell_type": "markdown",
   "metadata": {},
   "source": [
    "# Implement AORC Forcing Data into TopoFlow \n",
    "\n",
    "### Test Case: Wolverine Creek, AK\n",
    "\n",
    "AORC is a forcing dataset for use in the [Next Generation Water Modeling Framework](https://github.com/NOAA-OWP/ngen) developed by the NOAA Office of Water Prediction.\n",
    "\n",
    "This notebook demonstrates how to incorporate AORC data in `.NetCDF` format into a TopoFlow modeling scenario."
   ]
  },
  {
   "cell_type": "code",
   "execution_count": null,
   "metadata": {},
   "outputs": [],
   "source": [
    "# Import the necessary libraries and TopoFlow utilities\n",
    "import os\n",
    "from topoflow.utils import rti_files\n",
    "from topoflow.utils import regrid\n",
    "from topoflow.utils import rts_files\n",
    "from topoflow.utils import ncgs_files\n",
    "from topoflow.utils import model_input"
   ]
  },
  {
   "cell_type": "markdown",
   "metadata": {},
   "source": [
    "### Create individual .nc files for each forcing variable from one .nc file containing all variables"
   ]
  },
  {
   "cell_type": "code",
   "execution_count": null,
   "metadata": {},
   "outputs": [],
   "source": [
    "# Input file\n",
    "input_file = '/Users/laurenbolotin/basins/Wolverine/__met/TopoFlow_AORC_Alaska_Forcings_full.nc'\n",
    "\n",
    "# Get DEM grid info\n",
    "grid_info = rti_files.read_info( '/Users/laurenbolotin/basins/Wolverine/__topo/Wolverine.rti', SILENT=True )\n",
    "\n",
    "# Forcings var names (AORC)\n",
    "var_names = ['Lwnet_tavg','Psurf_f_inst','Qair_f_inst','Rainf_tavg','Swnet_tavg','Tair_f_inst','Wind_f_inst']\n",
    "\n",
    "# Loop over vars and create one .nc file for each\n",
    "if not(os.path.exists( os.path.join(os.path.dirname(input_file), 'individual_var_nc_files/') )): \n",
    "        os.mkdir( os.path.join(os.path.dirname(input_file), 'individual_var_nc_files/') )\n",
    "\n",
    "# TODO: Need to make sure the start datetime is not hard coded in regrid.py:create_ncgs_forcings_file(), as it currently is\n",
    "for var_name in var_names:\n",
    "\n",
    "    # name the output file\n",
    "    output_file = os.path.join(os.path.dirname(input_file), 'individual_var_nc_files/TopoFlow_AORC_Alaska_Forcings_'+var_name+'.nc')\n",
    "    \n",
    "    # create regridded forcings file\n",
    "    regrid.create_ncgs_forcings_file(var_name=var_name, nc_file_in=input_file, ncgs_file_out=output_file, grid_info=grid_info)\n"
   ]
  },
  {
   "cell_type": "markdown",
   "metadata": {},
   "source": [
    "### Convert the .nc files into .rts files for each variable\n",
    "\n",
    "`.RTS` is a row-major, binary format for use in TopoFlow"
   ]
  },
  {
   "cell_type": "code",
   "execution_count": null,
   "metadata": {},
   "outputs": [],
   "source": [
    "var_type = 'Grid_Sequence'\n",
    "input_files = []\n",
    "\n",
    "for root, dirs, files in os.walk(os.path.abspath(\"/Users/laurenbolotin/basins/Wolverine/__met/individual_var_nc_files/\")):\n",
    "    for file in files:\n",
    "        nc_forcing_file = os.path.join(root, file)\n",
    "        input_files.append(nc_forcing_file)\n",
    "\n",
    "for file in input_files:\n",
    "    print('Now converting \"'+file+'\" to .RTS format...')\n",
    "    file_unit = model_input.open_file(var_type, file)\n",
    "    nc_obj = ncgs_files.ncgs_file()\n",
    "    nc_obj.open_file(file)\n",
    "    var_names_nc = nc_obj.get_var_names()\n",
    "\n",
    "    # See which of the vars is in the file the loop is currently on, and where that var is so it can be extracted\n",
    "    for x in var_names:\n",
    "        if x in var_names_nc:\n",
    "            var_index = var_names_nc.index(x)\n",
    "\n",
    "    rts = rts_files.rts_file()\n",
    "    rts_fn = '/Users/laurenbolotin/basins/Wolverine/__met/'+var_names_nc[var_index]+'_nc_to_rts.rts'\n",
    "\n",
    "    if var_names_nc[var_index] == 'Tair_f_inst':\n",
    "         rts_var_name = 'T_air'\n",
    "    if var_names_nc[var_index] == 'Lwnet_tavg':\n",
    "         rts_var_name = 'Qn_SW'\n",
    "    if var_names_nc[var_index] == 'Psurf_f_inst':\n",
    "         rts_var_name = 'p0'\n",
    "    if var_names_nc[var_index] == 'Qair_f_inst':\n",
    "         rts_var_name = 'Qair'\n",
    "    if var_names_nc[var_index] == 'Rainf_tavg':\n",
    "         rts_var_name = 'P'\n",
    "    if var_names_nc[var_index] == 'Swnet_tavg':\n",
    "         rts_var_name = 'Qn_SW'\n",
    "    if var_names_nc[var_index] == 'Wind_f_inst':\n",
    "         rts_var_name = 'uz'\n",
    "         \n",
    "    rts.open_new_file(file_name = rts_fn, info=grid_info, var_name = rts_var_name, dtype='float32')\n",
    "\n",
    "    # Set how many grids (hours) of data there should be:\n",
    "    time_info = nc_obj.get_time_info()\n",
    "    mins = time_info.duration\n",
    "    hours = mins/60\n",
    "    n_grids = int(hours+1)\n",
    "\n",
    "    for time_index in range(n_grids):\n",
    "        var_data = nc_obj.get_grid(var_name=var_names_nc[var_index], time_index=time_index)\n",
    "        rts.add_grid( var_data)       \n",
    "    rts.close_file()"
   ]
  },
  {
   "cell_type": "markdown",
   "metadata": {},
   "source": [
    "### Convert specific humidity to relative humidity"
   ]
  },
  {
   "cell_type": "code",
   "execution_count": null,
   "metadata": {},
   "outputs": [],
   "source": [
    "import numpy as np\n",
    "from topoflow.utils import met_utils as mu\n",
    "\n",
    "# Do the needed files exist?\n",
    "q_air_file  = '/Users/laurenbolotin/basins/Wolverine/__met/Qair_f_inst_nc_to_rts.rts'\n",
    "T_air_file  = '/Users/laurenbolotin/basins/Wolverine/__met/Tair_f_inst_nc_to_rts.rts' \n",
    "P_surf_file = '/Users/laurenbolotin/basins/Wolverine/__met/Psurf_f_inst_nc_to_rts.rts' \n",
    "HAVE_Q_AIR  = os.path.exists( q_air_file )\n",
    "HAVE_T_AIR  = os.path.exists( T_air_file )\n",
    "HAVE_P_SURF = os.path.exists( P_surf_file ) \n",
    "\n",
    "if (HAVE_Q_AIR and HAVE_T_AIR and HAVE_P_SURF):\n",
    "    rts_q_air  = rts_files.rts_file()\n",
    "    rts_T_air  = rts_files.rts_file()\n",
    "    rts_P_surf = rts_files.rts_file()\n",
    "\n",
    "    rts_q_air.open_file( q_air_file )\n",
    "    rts_T_air.open_file( T_air_file )\n",
    "    rts_P_surf.open_file( P_surf_file )\n",
    "\n",
    "    RH_file = '/Users/laurenbolotin/basins/Wolverine/__met/aorc_rh.rts'\n",
    "    rts_RH  = rts_files.rts_file()   # For new RTS file\n",
    "    OK = rts_RH.open_new_file( RH_file, info=grid_info, var_name='RH' )\n",
    "    method = 'BRUTSAERT'  # (or 'SATTERLUND', or 'BOLTON')\n",
    "    n_grids = rts_q_air.number_of_grids()\n",
    "\n",
    "    print('Creating RTS Grid Stack for RH...')\n",
    "    for time_index in range(n_grids):\n",
    "        q_air  = rts_q_air.read_grid(  time_index, dtype='float32' )\n",
    "        T_air  = rts_T_air.read_grid(  time_index, dtype='float32' )\n",
    "        P_surf = rts_P_surf.read_grid( time_index, dtype='float32' )\n",
    "\n",
    "        # Compute RH via met_utils.py. RH in [0,1]\n",
    "        RH = mu.relative_humidity( q_air, T_air, P_surf, method=method)\n",
    "        RH = np.float32( RH )\n",
    "        rts_RH.add_grid( RH )\n",
    "\n",
    "    rts_q_air.close_file()\n",
    "    rts_T_air.close_file()\n",
    "    rts_P_surf.close_file()\n",
    "    rts_RH.close_file()\n",
    "    print('Finished creating RTS Grid Stack for RH.')\n",
    "    print()\n",
    "else:\n",
    "    print('ERROR:  Could not find the required grids for:')\n",
    "    print('        Q_air, T_air and P_surf.')\n",
    "    print()"
   ]
  }
 ],
 "metadata": {
  "kernelspec": {
   "display_name": "tf36",
   "language": "python",
   "name": "python3"
  },
  "language_info": {
   "name": "python",
   "version": "3.9.17"
  }
 },
 "nbformat": 4,
 "nbformat_minor": 2
}
