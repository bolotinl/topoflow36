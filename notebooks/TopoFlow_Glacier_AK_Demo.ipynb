{
 "cells": [
  {
   "cell_type": "markdown",
   "metadata": {},
   "source": [
    "# Prepare input and run test case for TopoFlow Glacier Component"
   ]
  },
  {
   "cell_type": "markdown",
   "metadata": {},
   "source": [
    "## Download source data for the region of interest: the Gulkana Glacier in Alaska\n",
    "\n",
    "[<b>MERIT DEM</b>](http://hydro.iis.u-tokyo.ac.jp/~yamadai/MERIT_DEM/) tiles can be downloaded for specific areas of interest. For this case, download the GeoTIFF for **n60w150**. You'll need to sign up for a free username and password to access the DEM. You should receive credentials within minutes of registering. \n",
    "\n",
    "In this test case, the goal is to output combined snow and glacier ice melt, so certain steps related to gathering important data (e.g. soils, catchment characteristics, etc.) for accurate streamflow estimates, infiltration, and channel routing will be skipped. For a more complete tutorial on preparing data to run all TopoFlow components, see the [<b>Sagehen Test Case example</b>](https://github.com/peckhams/topoflow36/blob/master/notebooks/TopoFlow_Prepare_Input_Data_Sagehen2.ipynb). "
   ]
  },
  {
   "cell_type": "code",
   "execution_count": 1,
   "metadata": {},
   "outputs": [
    {
     "name": "stdout",
     "output_type": "stream",
     "text": [
      "Home directory = /Users/laurenbolotin\n",
      "Source DEM directory   = /Users/laurenbolotin/DEMs/MERIT_Tiles/GeoTIFF/\n",
      "CFG template directory = /Users/laurenbolotin/TF_Data/_Test1/cfg_templates/\n"
     ]
    }
   ],
   "source": [
    "# Change these directories as necessary\n",
    "import os, os.path\n",
    "\n",
    "# This is your home directory and it is used throughout this notebook.\n",
    "home_dir = os.path.expanduser(\"~\")\n",
    "\n",
    "# It is preferred to use a MERIT DEM with floating-point elevations.\n",
    "# Go to this URL:  http://hydro.iis.u-tokyo.ac.jp/~yamadai/MERIT_DEM/\n",
    "# to download the tile listed here (5x5 degrees). \n",
    "# Change the corresponding file path as needed. \n",
    "src_dem_dir  = home_dir + '/DEMs/MERIT_Tiles/GeoTIFF/'\n",
    "src_dem      = 'n60w150_dem.tif'\n",
    "\n",
    "tf_data_dir      = home_dir + '/TF_Data/'\n",
    "cfg_template_dir = tf_data_dir + '_Test1/cfg_templates/'\n",
    "# src_outlet_dir   = tf_data_dir + '_Test1/outlet_files/' # TODO: is this even necessary? If not, delete\n",
    "\n",
    "print( 'Home directory =', home_dir )\n",
    "print( 'Source DEM directory   =', src_dem_dir )\n",
    "print( 'CFG template directory =', cfg_template_dir )"
   ]
  },
  {
   "cell_type": "markdown",
   "metadata": {},
   "source": [
    "## Set the site_prefix, case_prefix and Common Info  <a id=\"choose_B\"></a> \n",
    "Here, we set some site-specific information, mostly pertaining to channel routing, which is not the focus of this example, so only the *site_prefix* needs to be properly set for the basin of interest. The channels component of TopoFlow, however, must be enabled to run the model, so we still provide best-guess values. "
   ]
  },
  {
   "cell_type": "code",
   "execution_count": 2,
   "metadata": {},
   "outputs": [],
   "source": [
    "site_prefix = 'Gulkana'\n",
    "case_prefix  = 'Test1'\n",
    "\n",
    "#--------------------------------------------------------\n",
    "# The following info does not need to be perfect since it \n",
    "# is intended for streamflow outputs, which are not \n",
    "# analyzed here.\n",
    "#--------------------------------------------------------\n",
    "channel_width_power = 0.5\n",
    "max_sinuosity   = 1.2    # [m/m] \n",
    "min_manning_n   = 0.03   # [m / s^(1/3)]\n",
    "max_manning_n   = 0.2    # [m / s^(1/3)]\n",
    "bankfull_depth_power = 0.4\n",
    "bank_angle = 30.0   # [degrees]\n",
    "DRAINS_TO_OCEAN = False   # (this is the default)"
   ]
  },
  {
   "cell_type": "markdown",
   "metadata": {},
   "source": [
    "## Create the necessary directories for model input/output"
   ]
  },
  {
   "cell_type": "code",
   "execution_count": 3,
   "metadata": {},
   "outputs": [
    {
     "name": "stdout",
     "output_type": "stream",
     "text": [
      "Home directory  = /Users/laurenbolotin\n",
      "Basin directory = /Users/laurenbolotin/basins/Gulkana/\n"
     ]
    }
   ],
   "source": [
    "import glob\n",
    "import shutil\n",
    "\n",
    "test_dir  = home_dir + '/basins/'\n",
    "basin_dir = test_dir + site_prefix + '/'\n",
    "topo_dir  = basin_dir + '__topo/'\n",
    "met_dir   = basin_dir + '__met/'\n",
    "\n",
    "if not(os.path.exists( test_dir )):  \n",
    "    os.mkdir( test_dir )\n",
    "if not(os.path.exists( basin_dir )): \n",
    "    os.mkdir( basin_dir )\n",
    "if not(os.path.exists( topo_dir )):  \n",
    "    os.mkdir( topo_dir )\n",
    "if not(os.path.exists( met_dir )):   \n",
    "    os.mkdir( met_dir )\n",
    "\n",
    "print( 'Home directory  =', home_dir )\n",
    "print( 'Basin directory =', basin_dir )"
   ]
  },
  {
   "cell_type": "markdown",
   "metadata": {},
   "source": [
    "## Set model run information"
   ]
  },
  {
   "cell_type": "code",
   "execution_count": 5,
   "metadata": {},
   "outputs": [],
   "source": [
    "start_date_str  = '2012-10-01' \n",
    "end_date_str    = '2015-09-30'\n",
    "date_range_str  = '2012-10_to_2015-09'\n",
    "extension       = '_' + date_range_str + '.rts'\n",
    "GMT_offset_str  = '-9'  # Alaska Time\n",
    "start_month_str = 'October'\n",
    "start_day_str   = '1'\n",
    "T_stop_str      = '525600'  # [minutes] # 1 non leap year\n",
    "\n",
    "rain_type_str  = 'g1480' # data comes from Gulkana met. station 1480\n",
    "met_dt_str     = '3600.0'  # [secs]  60 * 60 (secs in 1 hr)"
   ]
  },
  {
   "cell_type": "code",
   "execution_count": 6,
   "metadata": {},
   "outputs": [
    {
     "name": "stdout",
     "output_type": "stream",
     "text": [
      "CFG directory = /Users/laurenbolotin/basins/Gulkana/Test1_2012-10_to_2015-09_g1480_cfg/\n"
     ]
    }
   ],
   "source": [
    "case_info_str = date_range_str + '_' + rain_type_str\n",
    "cfg_dir = basin_dir + 'Test1_' + case_info_str + '_cfg/'\n",
    "if not(os.path.exists( cfg_dir )):   \n",
    "    os.mkdir( cfg_dir )\n",
    "print( 'CFG directory =', cfg_dir )"
   ]
  },
  {
   "cell_type": "markdown",
   "metadata": {},
   "source": [
    "## Define Information for the Specific Basin of Interest  <a id=\"define_B\"></a> \n",
    "\n",
    "TopoFlow uses a <b>site_prefix</b> for all of the filenames in a data set that pertain to the geographic location (the \"site\").  These files describe static properties of the location, such as topography and soil.  The default site prefix in this notebook is <b>GulkanaGlacier</b>.\n",
    "\n",
    "Topoflow uses a <b>case_prefix</b> for all of the filenames in a data set that describe a particular model scenario (the \"case\" under consideration).  These files describe things that can change from one model run to the next for the same site.  The default case prefix in this notebook is <b>Test1</b>.  Note that component CFG filenames always start with the case prefix.\n",
    "\n",
    "out_bounds = Geographic bounding box for the chosen river basin<br>\n",
    "out_xres_sec = the spatial grid cell xsize to use, in arcseconds<br>\n",
    "out_yres_sec = the spatial grid cell ysize to use, in arcseconds<br>"
   ]
  },
  {
   "cell_type": "code",
   "execution_count": 8,
   "metadata": {},
   "outputs": [],
   "source": [
    "# Set the geographic bounding box and the grid cell size that\n",
    "# will be used for the TopoFlow model run, where:\n",
    "#    Bounds = [ minlon, minlat, maxlon, maxlat ]\n",
    "# The bounding box should contain the entire watershed polygon\n",
    "out_xres_sec = 30.0    # [arcseconds]\n",
    "out_yres_sec = 30.0    # [arcseconds]\n",
    "\n",
    "\n",
    "out_bounds = [ -145.52054, 63.21988, -145.32512, 63.31909]\n",
    "\n",
    "max_river_width = 15.56  # [meters]  \n",
    "# Phelan Creek USGS gauge drainage area:\n",
    "A_out_km2 = 31.33886  # total contributing area at basin outlet [km2]\n",
    "Qbase_out = 20.0     # estimated baseflow discharge at basin outlet [m^3 / s]\n",
    "max_bankfull_depth = 2.4   # [meters]    # rough estimate ## at the gauge?\n"
   ]
  },
  {
   "cell_type": "markdown",
   "metadata": {},
   "source": [
    "\n",
    "## Create CFG Files from CFG Templates in new Basin Directory\n",
    "\n",
    "Copy a set of default \"CFG template\" files from \"cfg_template_dir\" to \"cfg_dir\".  "
   ]
  },
  {
   "cell_type": "code",
   "execution_count": 9,
   "metadata": {},
   "outputs": [
    {
     "data": {
      "text/plain": [
       "'Test1_providers.txt'"
      ]
     },
     "execution_count": 9,
     "metadata": {},
     "output_type": "execute_result"
    }
   ],
   "source": [
    "os.chdir( cfg_template_dir )\n",
    "cfg_file_list = sorted( glob.glob( '*.cfg' ) )\n",
    "\n",
    "os.chdir( cfg_dir )\n",
    "for cfg_file in cfg_file_list:\n",
    "    shutil.copyfile( cfg_template_dir + cfg_file, cfg_file)\n",
    "\n",
    "# Copy the default \"provider_file\", which specifies which version of each \n",
    "# component to use, and the \"outlets_file\", which specifies grid cells of \n",
    "# interest to output time series data for.\n",
    "provider_file = case_prefix + '_providers.txt'\n",
    "shutil.copyfile( cfg_template_dir + provider_file, provider_file )"
   ]
  },
  {
   "cell_type": "markdown",
   "metadata": {},
   "source": [
    "## Customize CFG Files from CFG Templates  <a id=\"cfg_B\"></a>"
   ]
  },
  {
   "cell_type": "markdown",
   "metadata": {},
   "source": [
    "### Select Appropriate Providers for Each Component\n",
    "In the `providers.txt` file, you can specify which components you would like to use. For this test case, you should **MANUALLY comment out the snow, ice, and differential wave components, and uncomment the glacier and kinematic wave components**, like so: \n",
    "<pre> <span class=\"inner-pre\" style=\"font-size:11px\">\n",
    "#----------------------------\n",
    "# comp_type     component\n",
    "#----------------------------\n",
    "meteorology     tf_meteorology\n",
    "diversions      tf_diversions_fraction_method\n",
    "# channels        tf_channels_diff_wave\n",
    "channels        tf_channels_kin_wave\n",
    "# snow            tf_snow_energy_balance\n",
    "glacier \ttf_glacier_energy_balance\n",
    "satzone         tf_satzone_darcy_layers\n",
    "evap            tf_evap_priestley_taylor\n",
    "infil           tf_infil_richards_1d\n",
    "# ice             tf_ice_gc2d\n",
    "hydro_model     topoflow_driver\n",
    "</span> </pre>\n",
    "CFG settings that can currently be changed in the next block of this notebook are wrapped in \"double curly brackets\", e.g. \"{{site_prefix}}\".\n",
    "  "
   ]
  },
  {
   "cell_type": "code",
   "execution_count": 10,
   "metadata": {},
   "outputs": [
    {
     "name": "stdout",
     "output_type": "stream",
     "text": [
      "Importing TopoFlow 3.6 package modules:\n",
      "   topoflow.utils\n",
      "   topoflow.utils.tests\n",
      "   topoflow.components\n",
      "   topoflow.components.tests\n",
      "   topoflow.framework\n",
      "   topoflow.framework.tests\n",
      " \n",
      "Importing TopoFlow 3.6 packages:\n",
      "   topoflow.utils\n",
      "   topoflow.utils.tests\n",
      "   topoflow.components\n",
      "   topoflow.components.tests\n",
      "   topoflow.framework\n",
      "   topoflow.framework.tests\n",
      " \n"
     ]
    }
   ],
   "source": [
    "from topoflow.utils import cfg_templates as ct\n",
    "\n",
    "chan_dt_str = '2.0'  # [secs] \n",
    "\n",
    "# Create new path_info CFG file specifying input/output folders\n",
    "d1 = '~/basins/' + site_prefix + '/'\n",
    "d2 = '~/output/GulkanaAK/'\n",
    "cfg_template = cfg_template_dir + case_prefix + '_path_info.cfg'\n",
    "cfg_file     = cfg_dir + case_prefix + '_path_info.cfg'\n",
    "vars = ['in_directory', 'out_directory', 'site_prefix', 'case_prefix' ]\n",
    "vals = [ d1, d2, site_prefix, case_prefix ]\n",
    "ct.make_new_cfg_file( vars, vals, cfg_template, cfg_file )\n",
    "\n",
    "# Create new time_info CFG file specifying the model run\n",
    "cfg_template = cfg_template_dir + case_prefix + '_time_info.cfg'\n",
    "cfg_file     = cfg_dir + case_prefix + '_time_info.cfg'\n",
    "vars = ['start_date', 'start_time', 'end_date', 'end_time' ]\n",
    "vals = [ start_date_str, '  00:00:00', end_date_str, '  00:00:00']\n",
    "ct.make_new_cfg_file( vars, vals, cfg_template, cfg_file )\n",
    "\n",
    "# Create new topoflow CFG file, you can also specify model\n",
    "# run length here\n",
    "compute_stat_str = '0'\n",
    "indicators_str = '0'\n",
    "media_files_str = '0'\n",
    "cfg_template = cfg_template_dir + case_prefix + '_topoflow.cfg'\n",
    "cfg_file     = cfg_dir + case_prefix + '_topoflow.cfg'\n",
    "vars = ['dt', 'T_stop_model', 'COMPUTE_STAT_GRIDS', 'CREATE_INDICATORS', 'CREATE_MEDIA_FILES' ]\n",
    "vals = [chan_dt_str, T_stop_str, compute_stat_str, indicators_str, media_files_str]\n",
    "ct.make_new_cfg_file( vars, vals, cfg_template, cfg_file )\n",
    "\n",
    "# Create new meteorology CFG file\n",
    "cfg_template = cfg_template_dir + case_prefix + '_meteorology.cfg'\n",
    "cfg_file     = cfg_dir + case_prefix + '_meteorology.cfg'\n",
    "vars = ['dt', 'P_type', 'P', 'GMT_offset', 'start_month', 'start_day',\n",
    "        'start_hour', 'save_grid_dt', 'save_pixels_dt', 'NGEN_CSV' ]\n",
    "vals = [met_dt_str, 'Time_Series', 'w990_p.txt',\n",
    "        GMT_offset_str, start_month_str, start_day_str, '0.0', \n",
    "        met_dt_str, met_dt_str, 'No'] \n",
    "ct.make_new_cfg_file( vars, vals, cfg_template, cfg_file )\n",
    "\n",
    "# Create new glacier energy balance CFG file\n",
    "cfg_template = cfg_template_dir + case_prefix + '_glacier_energy_balance.cfg'\n",
    "cfg_file     = cfg_dir + case_prefix + '_glacier_energy_balance.cfg'\n",
    "shutil.copyfile(cfg_template, cfg_file)\n",
    "\n",
    "# Create new channels_kinematic_wave CFG file\n",
    "# The channels component is needed to run the model even though we're not evaluating the output in this example\n",
    "cfg_template = cfg_template_dir + case_prefix + '_channels_kinematic_wave.cfg'\n",
    "cfg_file     = cfg_dir + case_prefix + '_channels_kinematic_wave.cfg'\n",
    "vars = ['dt', 'FLOOD_OPTION', 'ATTENUATE', 'save_grid_dt', 'save_pixels_dt' ]\n",
    "vals = [chan_dt_str, '1', '1', met_dt_str, met_dt_str] \n",
    "ct.make_new_cfg_file( vars, vals, cfg_template, cfg_file )"
   ]
  },
  {
   "cell_type": "markdown",
   "metadata": {},
   "source": [
    "## Edit the meteorology CFG file to incorporate observed data from the USGS\n",
    "To tell TopoFlow that you want to update meteorological variables other than precipitation, set the `PRECIP_ONLY` flag in the meteorology CFG file to `No`. \n",
    "\n",
    "\n",
    "For air temperature, relative humidity, and wind speed, adjust the settings to match the following:\n",
    "#### Air Temperature\n",
    "For air temperature, we are using a time-varying grid of air temperature created using time series data from the USGS meteorological station and the lapse rate\n",
    "```\n",
    "T_air_type          | Grid_Sequence       | string    | allowed input types {Scalar; Grid; Time_Series; Grid_Sequence}\n",
    "T_air               | W990_t_lapsed_grid_function.rts        | string     | temperature of air [deg C]\n",
    "```\n",
    "#### Relative Humidity\n",
    "```\n",
    "RH_type             | Time_Series       | string    | allowed input types {Scalar; Grid; Time_Series; Grid_Sequence}\n",
    "RH                  | w990_rh.txt          | string     | relative humidity [none]\n",
    "```\n",
    "#### Wind Speed\n",
    "```\n",
    "uz_type             | Time_Series       | string    | allowed input types {Scalar; Grid; Time_Series; Grid_Sequence}\n",
    "uz                  | w990_ws_tenth.txt          | string     | wind velocity at height z [m/s]\n",
    "```\n"
   ]
  },
  {
   "cell_type": "markdown",
   "metadata": {},
   "source": [
    "## Edit the \"outlets file\" of Grid Cells to Monitor   <a id=\"copy_outlets_B\"></a>\n",
    "\n",
    "In TopoFlow component CFG files, flags can be set to tell TopoFlow to write values of chosen gridded variables to a file, to create a <b>grid stack</b>, indexed by time.  Grids are saved at a time interval set by <b>save_grid_dt</b>.\n",
    "\n",
    "Other flags in a CFG file can be set to tell TopoFlow to write values of chosen gridded variables to a file, but only at a specified set of grid cells.  These \"monitored grid cells\" or \"virtual gauges\" are set in an <b> outlets file</b> named <b>[case_prefix]_outlets.txt</b>.  It is a simple, multi-column text file, like this:\n",
    "<pre> <span class=\"inner-pre\" style=\"font-size:11px\">\n",
    "-------------------------------------------------------------------------------------\n",
    " Monitored Grid Cell (Outlet) Information\n",
    "-------------------------------------------------------------------------------------\n",
    "    Column       Row     Area [km^2]      Relief [m]      Lon [deg]     Lat [deg]\n",
    "-------------------------------------------------------------------------------------\n",
    "       22         28       24647.3         607.65466       -148.915472     60.376884\n",
    "       21         26       24647.3         649.1901        -148.918335     60.380534\n",
    "       26         18       24647.3         1084.8408       -148.906673     60.404161\n",
    "       20         12       24647.3         607.65466       -148.920717     60.419739\n",
    "       23         10       24647.3         607.65466       -148.914234     60.425940\n",
    "       32         12       24647.3         607.65466       -148.889590     60.419529\n",
    "       25         29       24647.3         607.65466       -148.908028     60.372743\n",
    "       25         20       24647.3         607.65466       -148.908707     60.396426\n",
    "       24         21       24647.3         607.65466       -148.909556     60.394186\n",
    "       36         17       24647.3         607.65466       -148.876410     60.405785\n",
    "       31         12       24647.3         607.65466       -148.891604     60.418872\n",
    "       15         10       24647.3         607.65466       -148.937048     60.424946\n",
    "       28         30       24647.3         607.65466       -148.898762     60.369959\n",
    "</span> </pre>\n",
    "\n",
    "The area and releif columns are just for user information and do not need to be accurate, but the Column, Row, Lon, and Lat do.\n",
    "\n",
    "**Manually** replace the information in the template **outlets.txt** file with the information above.\n",
    "\n",
    "The grid cells monitored in this file represent locations with glacier mass balance data from the [<b>USGS Benchmark Glacier Program</b>](https://alaska.usgs.gov/products/data.php?dataid=79), and the location of the [<b>USGS streamgauge at Wolverine Creek</b>](https://waterdata.usgs.gov/monitoring-location/15236900/#parameterCode=00065&period=P7D&showMedian=false)."
   ]
  },
  {
   "cell_type": "markdown",
   "metadata": {},
   "source": []
  },
  {
   "cell_type": "markdown",
   "metadata": {},
   "source": []
  },
  {
   "cell_type": "markdown",
   "metadata": {},
   "source": [
    "## Import Some TopoFlow Utilities  <a id=\"import_utils_B\"></a>"
   ]
  },
  {
   "cell_type": "code",
   "execution_count": 11,
   "metadata": {},
   "outputs": [],
   "source": [
    "\n",
    "from topoflow.utils import regrid\n",
    "from topoflow.utils import import_grid\n",
    "from topoflow.utils import fill_pits\n",
    "from topoflow.utils import rtg_files\n",
    "from topoflow.utils import rti_files\n",
    "from topoflow.utils import parameterize\n",
    "from topoflow.utils import init_depth\n",
    "from topoflow.utils import new_slopes\n",
    "from topoflow.components import d8_global"
   ]
  },
  {
   "cell_type": "markdown",
   "metadata": {},
   "source": [
    "## Clip a Source DEM to a Bounding Box and Resample  <a id=\"clip_dem_B\"></a>\n",
    "\n",
    "Here, we use the TopoFlow <b>regrid</b> utility to <b>clip</b> a DEM tile to the geographic bounding box for Gulkana Glacier in Alaska.  This utility uses the gdal.warp() function in the GDAL Python package.  \n",
    "\n",
    "At the same time, we <b>resample</b> (via spatial bilinear interpolation) the resulting DEM to a different, coarser spatial resolution.  The source DEM has a grid cell size of 3 arcseconds (roughly 90 meters), while the new DEM has a grid cell size of 10 arcseconds.  Both the source DEM and new DEM are stored in GeoTIFF format.  Resampling typically causes the bounding box to change slightly."
   ]
  },
  {
   "cell_type": "code",
   "execution_count": 12,
   "metadata": {},
   "outputs": [
    {
     "name": "stdout",
     "output_type": "stream",
     "text": [
      "Input grid file:\n",
      "   /Users/laurenbolotin/DEMs/MERIT_Tiles/GeoTIFF/n60w150_dem.tif\n",
      "   ncols  = 6000\n",
      "   nrows  = 6000\n",
      "   xres   = 3.0  [arcsecs]\n",
      "   yres   = 3.0  [arcsecs]\n",
      "   bounds = [-150.00041666666667, 59.999583333333334, -145.00041666666667, 64.99958333333333]\n",
      "   dtype  = float32\n",
      "   nodata = -9999.0\n",
      "   gmin   = -9999.0\n",
      "   gmax   = 4196.035\n",
      "\n",
      "Output grid file:\n",
      "   Gulkana_rawDEM.tif\n",
      "   ncols  = 23\n",
      "   nrows  = 12\n",
      "   xres   = 30.0  [arcsecs]\n",
      "   yres   = 30.0  [arcsecs]\n",
      "   bounds = [-145.52054, 63.21909, -145.32887333333335, 63.31909]\n",
      "   dtype  = float32\n",
      "   nodata = -9999.0\n",
      "   gmin   = 1071.6908\n",
      "   gmax   = 2267.566\n",
      "Finished regridding.\n",
      "\n"
     ]
    }
   ],
   "source": [
    "os.chdir( topo_dir )\n",
    "in_file  = src_dem_dir + src_dem\n",
    "out_file = site_prefix + '_rawDEM.tif'\n",
    "\n",
    "regrid.regrid_geotiff(in_file=in_file, out_file=out_file, \n",
    "                   out_bounds=out_bounds,\n",
    "                   out_xres_sec=out_xres_sec, out_yres_sec=out_yres_sec,\n",
    "                   ### in_nodata=None, out_nodata=None, \n",
    "                   RESAMPLE_ALGO='bilinear', REPORT=True)"
   ]
  },
  {
   "cell_type": "markdown",
   "metadata": {},
   "source": [
    "## Read Clipped DEM from a GeoTIFF File  <a id=\"read_dem_tif_B\"></a>\n",
    "\n",
    "Here we import a DEM in GeoTIFF format.  Note that NetCDF (.nc) and RiverTools Grid (RTG) formats can also be imported.\n",
    "\n",
    "Most of the TopoFlow utilities use grids saved in the RiverTools Grid (RTG) format, which is a generic, binary, row-major format.  Georeferencing information for the grid is stored in a small, separate text file in RiverTools Info (RTI) format.  When the rti_file argument is specified, georeferencing information is also saved in the RTI file format for later use."
   ]
  },
  {
   "cell_type": "code",
   "execution_count": 13,
   "metadata": {},
   "outputs": [
    {
     "name": "stdout",
     "output_type": "stream",
     "text": [
      "Finished reading file:\n",
      "Gulkana_rawDEM.tif\n",
      "Grid info from GDAL:\n",
      "ncols, nrows = 23 , 12\n",
      "xres, yres   = 0.008333333333333333 , 0.008333333333333333\n",
      "----------------------------------\n",
      "ulx, uly     = -145.52054 , 63.31909\n",
      "lrx, lry     = -145.32887333333335 , 63.21909\n",
      "xskew, yskew = 0.0 , 0.0\n",
      "----------------------------------\n",
      "grid.dtype  = float32\n",
      "grid.min()  = 1071.6908\n",
      "grid.max()  = 2267.566\n",
      "\n",
      "Finished making RTI file for:\n",
      "  Gulkana_rawDEM.tif\n",
      "\n"
     ]
    }
   ],
   "source": [
    "os.chdir( topo_dir )\n",
    "\n",
    "tif_file = site_prefix + '_rawDEM.tif'\n",
    "rti_file = site_prefix + '.rti'\n",
    "DEM = import_grid.read_from_geotiff( tif_file, REPORT=True, rti_file=rti_file)\n",
    "\n",
    "grid_info = rti_files.read_info( rti_file )"
   ]
  },
  {
   "cell_type": "markdown",
   "metadata": {},
   "source": [
    "## Option to Replace Negative Values in DEM <a id=\"non_neg_B\"></a>\n",
    "\n",
    "This helps to prevent problems that can occur for DEMs where the main river basin drains to the ocean.  But some DEMs have valid negative elevations."
   ]
  },
  {
   "cell_type": "code",
   "execution_count": 14,
   "metadata": {},
   "outputs": [],
   "source": [
    "# NOTE: Set to 0 vs. \"0.0\" so that data_type is not changed from INTEGER to FLOAT.\n",
    "if (DRAINS_TO_OCEAN):\n",
    "    DEM[ DEM < 0 ] = 0"
   ]
  },
  {
   "cell_type": "markdown",
   "metadata": {},
   "source": [
    "## Fill Depressions in the DEM and Save <a id=\"fill_pits_B\"></a>\n",
    "\n",
    "This step is necessary to make the DEM <b>hydrologically sound</b>."
   ]
  },
  {
   "cell_type": "code",
   "execution_count": 15,
   "metadata": {},
   "outputs": [
    {
     "name": "stdout",
     "output_type": "stream",
     "text": [
      "data_type = FLOAT\n",
      "Number of nodata and NaN values = 0\n",
      "Finished initializing \"closed\" array.\n",
      " \n",
      "Putting boundary pixels on heap...\n",
      "Number of pixels on heap = 66\n",
      "Finished with heap insertion.\n",
      " \n",
      "n_closed = 0 of 276\n",
      "Total pixels   = 276\n",
      "Raised  pixels = 0\n",
      "Drained pixels = 278\n",
      "Run time for fill_pits() =     0.0081 [seconds]\n",
      "Finished with fill_pits().\n",
      " \n",
      "Writing grid values...\n",
      "Finished writing grid to:\n",
      "    Gulkana_DEM.rtg\n"
     ]
    }
   ],
   "source": [
    "os.chdir( topo_dir )\n",
    "data_type = grid_info.data_type   # e.g. \"INTEGER\" or \"FLOAT\"\n",
    "print('data_type =', data_type)\n",
    "ncols = grid_info.ncols\n",
    "nrows = grid_info.nrows\n",
    "\n",
    "# print('DEM.dtype (before) =', DEM.dtype)\n",
    "fill_pits.fill_pits( DEM, data_type, ncols, nrows, \n",
    "                     SILENT=False)\n",
    "# print('DEM.dtype (after) =', DEM.dtype)\n",
    "# print('grid_info.data_type =', grid_info.data_type)\n",
    "\n",
    "new_DEM_file = site_prefix + '_DEM.rtg'\n",
    "rtg_files.write_grid( DEM, new_DEM_file, grid_info, RTG_type=data_type, SILENT=False)  ##########\n"
   ]
  },
  {
   "cell_type": "markdown",
   "metadata": {},
   "source": [
    "## Compute the D8 Flow Direction Grid  <a id=\"d8_flow_B\"></a>\n",
    "\n",
    "TopoFlow includes a component called <b>d8_global</b> that can compute a grid of D8 flow direction codes (Jenson 1984 convention), as well as several additional, related grids such as a grid of total contributing area (TCA).  TopoFlow components are configured through the use of configuration files, which are text files with the extension \".cfg\".  Therefore, we now need to make use of the CFG file for the D8-Global component, <i>Test1_d8_global.cfg</i>."
   ]
  },
  {
   "cell_type": "code",
   "execution_count": 16,
   "metadata": {},
   "outputs": [
    {
     "name": "stdout",
     "output_type": "stream",
     "text": [
      "D8 component: Initializing...\n",
      "Reading config file into component state.\n",
      "    min(dx), max(dx) = 417.77853, 419.10577 [m]\n",
      "    min(dy), max(dy) = 928.8761, 928.8881 [m]\n",
      "    min(dd), max(dd) = 1018.51465, 1019.04877 [m]\n",
      "    min(da), max(da) = 388069.52105966554, 389297.3206440199 [m^2]\n",
      "Reading grid values...\n",
      "Finished reading grid from:\n",
      "  /Users/laurenbolotin/basins/Gulkana/__topo/Gulkana_DEM.rtg\n",
      "   min(DEM), max(DEM) = 1071.6908 2267.566\n",
      "\n",
      "Filling pits in initial DEM...\n",
      "Number of nodata and NaN values = 0\n",
      "Finished initializing \"closed\" array.\n",
      " \n",
      "Putting boundary pixels on heap...\n",
      "Number of pixels on heap = 66\n",
      "Finished with heap insertion.\n",
      " \n",
      "n_closed = 0 of 276\n",
      "Total pixels   = 276\n",
      "Raised  pixels = 0\n",
      "Drained pixels = 278\n",
      "Run time for fill_pits() =     0.0023 [seconds]\n",
      "Finished with fill_pits().\n",
      " \n",
      "Imported netCDF4 version: 1.6.4\n",
      "D8 component: Updating...\n",
      "Updating D8 flow grid...\n",
      "   update_d8_codes(): Initializing grid...\n",
      "   --------------------------------------------\n",
      "   Data type of flow grid at start = int16\n",
      "   Number of flats         = 0\n",
      "   Number of 1-pixel pits  = 2\n",
      "   Number of nodata/NaN    = 0\n",
      "   min(codes), max(codes)  = 0, 128\n",
      "   --------------------------------------------\n",
      "   update_d8_codes(): Breaking ties...\n",
      "   update_d8_codes(): Linking flats...\n",
      "   Number of iterations = 1 (in link_flats())\n",
      "Updating flow width grid...\n",
      "    min(dw), max(dw) = 417.77853, 1019.0002 [m]\n",
      "Updating flow length grid...\n",
      "    min(ds), max(ds) = 417.77853, 1019.0002 [m]\n",
      "Updating upstream area grid...\n",
      "    min(A), max(A) = 0.0, 45.490658 [km^2]\n",
      "    Number of iterations = 18\n",
      "Saving D8 grids specified in CFG file...\n",
      "-----------------\n",
      "Grid Information\n",
      "-----------------\n",
      "grid_file    = Gulkana_rawDEM.tif\n",
      "data_source  = TopoFlow & GDAL\n",
      "ncols        = 23\n",
      "nrows        = 12\n",
      "data_type    = FLOAT\n",
      "byte_order   = LSB\n",
      "pixel_geom   = 0\n",
      "xres         = 30.0\n",
      "yres         = 30.0\n",
      "zres         = 0.01\n",
      "z_units      = METERS\n",
      "y_south_edge = 63.21909\n",
      "y_north_edge = 63.31909\n",
      "x_east_edge  = -145.328873333333\n",
      "x_west_edge  = -145.52054\n",
      "box_units    = DEGREES\n",
      "gmin         = 1071.6908\n",
      "gmax         = 2267.566\n",
      "UTM_zone     = 6.0\n",
      " \n"
     ]
    }
   ],
   "source": [
    "os.chdir( topo_dir )\n",
    "d8 = d8_global.d8_component()\n",
    "d8.DEBUG = False\n",
    "\n",
    "#------------------------------------------------------------------------\n",
    "# NOTE:  We already filled the pits in the DEM, but the FILL_PITS_IN_ZO\n",
    "#        toggle in Test1_d8_global.cfg is set to 1 by default.\n",
    "#        This causes fill_pits to be called again in d8.initialize().\n",
    "#------------------------------------------------------------------------\n",
    "cfg_file = cfg_dir + case_prefix + '_d8_global.cfg'  # (need full path here)\n",
    "time = 0.0\n",
    "d8.initialize( cfg_file=cfg_file, SILENT=False, REPORT=True )\n",
    "\n",
    "# If elevation <= nodata, set D8 flow code to 0 (undefined)\n",
    "if (DRAINS_TO_OCEAN):\n",
    "    d8.DEM_nodata = 0.0\n",
    "else:\n",
    "    d8.DEM_nodata = -9999.0\n",
    "\n",
    "d8.update( time, REPORT=True )\n",
    "\n",
    "rti_file = site_prefix + '.rti'\n",
    "grid_info = rti_files.read_info( rti_file, REPORT=True )\n",
    "\n",
    "d8_code_file = site_prefix + '_flow.rtg'\n",
    "rtg_files.write_grid(d8.d8_grid, d8_code_file, grid_info, RTG_type='BYTE')"
   ]
  },
  {
   "cell_type": "markdown",
   "metadata": {},
   "source": [
    "## Save the D8 Total Contributing Area (TCA) Grid  <a id=\"d8_area_B\"></a>"
   ]
  },
  {
   "cell_type": "code",
   "execution_count": 17,
   "metadata": {},
   "outputs": [
    {
     "name": "stdout",
     "output_type": "stream",
     "text": [
      "Writing grid values...\n",
      "Finished writing grid to:\n",
      "    Gulkana_d8-area.rtg\n"
     ]
    }
   ],
   "source": [
    "os.chdir( topo_dir )\n",
    "d8_area_file = site_prefix + '_d8-area.rtg'\n",
    "rtg_files.write_grid( d8.A, d8_area_file, grid_info, RTG_type='FLOAT', SILENT=False)"
   ]
  },
  {
   "cell_type": "markdown",
   "metadata": {},
   "source": [
    "## Compute the D8 Slope Grid  <a id=\"d8_slope_B\"></a>"
   ]
  },
  {
   "cell_type": "code",
   "execution_count": 18,
   "metadata": {},
   "outputs": [
    {
     "name": "stdout",
     "output_type": "stream",
     "text": [
      "/Users/laurenbolotin/basins/Gulkana/__topo/\n",
      "Computing slope grid...\n",
      "dtype(d8.ds) = float32\n",
      "   Initial min slope     = 0.0\n",
      "   Initial min pos slope = 0.010082655069053597\n",
      "   Initial max slope     = 0.4959431169827726\n",
      "\n",
      "   Final min slope     = 0.0\n",
      "   Final min pos slope = 0.010082655069053597\n",
      "   Final max slope     = 0.4959431169827726\n",
      "Finished writing new slope grid to file: \n",
      "/Users/laurenbolotin/basins/Gulkana/__topo/Gulkana_slope.rtg\n",
      "\n",
      "   n_reps        = 18\n",
      "   min slope     = 0.0\n",
      "   min pos slope = 0.010082655069053597\n",
      "   max slope     = 0.4959431169827726\n",
      " \n"
     ]
    }
   ],
   "source": [
    "print(topo_dir)\n",
    "os.chdir( topo_dir )\n",
    "d8_slope_file = site_prefix + '_slope.rtg'\n",
    "\n",
    "#---------------------------------------------\n",
    "# Method 1:  Standard D8, cell-to-cell slope\n",
    "#---------------------------------------------\n",
    "# os.chdir( topo_dir )\n",
    "# d8.update_slope_grid()\n",
    "# rtg_files.write_grid( d8.S, d8_slope_file, grid_info, RTG_type='FLOAT', SILENT=False)\n",
    "\n",
    "#-----------------------------------------------------------------\n",
    "# Method 2:  Better method for handling cells with slope of zero\n",
    "#-----------------------------------------------------------------\n",
    "# (Recommended)\n",
    "os.chdir( topo_dir )\n",
    "new_slopes.get_new_slope_grid(site_prefix=site_prefix, case_prefix=case_prefix,\n",
    "                              cfg_dir=cfg_dir, slope_file=d8_slope_file)"
   ]
  },
  {
   "cell_type": "markdown",
   "metadata": {},
   "source": [
    "## Compute the D8 Aspect Grid  <a id=\"d8_aspect_B\"></a>"
   ]
  },
  {
   "cell_type": "code",
   "execution_count": 19,
   "metadata": {},
   "outputs": [
    {
     "name": "stdout",
     "output_type": "stream",
     "text": [
      "Writing grid values...\n",
      "Finished writing grid to:\n",
      "    Gulkana_aspect.rtg\n"
     ]
    }
   ],
   "source": [
    "os.chdir( topo_dir )\n",
    "d8.update_aspect_grid()\n",
    "d8_aspect_file = site_prefix + '_aspect.rtg'\n",
    "rtg_files.write_grid(d8.aspect, d8_aspect_file, grid_info, RTG_type='FLOAT', SILENT=False)"
   ]
  },
  {
   "cell_type": "markdown",
   "metadata": {},
   "source": [
    "## Compute the Estimated Channel Width Grid <a id=\"chan_width_B\"></a>\n",
    "\n",
    "First, use Google Maps or Google Earth to estimate the width of the river at the outlet to your river basin, in meters.  Here, we'll assume that width equals 140 meters.\n",
    "\n",
    "The idea is to estimate the channel widths throughout the basin (as a grid with the same dimensions as the DEM), using an empirical power law of the form:  $w = c \\, A^p$\n",
    "where A is the total contributing area (TCA) that we computed as a grid above and saved into \"d8_area_file\".  A typical value of p is 0.5.  The value that w should have where A is maximum (e.g. the river outlet) is specified as g1. "
   ]
  },
  {
   "cell_type": "code",
   "execution_count": 20,
   "metadata": {},
   "outputs": [
    {
     "name": "stdout",
     "output_type": "stream",
     "text": [
      "Power-law parameters are:\n",
      "c = 2.3070047261000495\n",
      "p = 0.5\n",
      "Values set to 1.0 where A <= 0.\n",
      "  This occurred at 66 grid cells.\n",
      "grid min = 1.0\n",
      "grid_max = 15.559999\n",
      "Finished writing file: \n",
      "/Users/laurenbolotin/basins/Gulkana/__topo/Gulkana_chan-w.rtg\n",
      "\n"
     ]
    }
   ],
   "source": [
    "# Should be specified at the top of this notebook.\n",
    "# max_river_width = 140.0  # [meters]\n",
    "# channel_width_power = 0.5\n",
    "\n",
    "os.chdir( topo_dir )\n",
    "width_file = site_prefix + '_chan-w.rtg'\n",
    "parameterize.get_grid_from_TCA(site_prefix=site_prefix, topo_dir=topo_dir,\n",
    "             area_file=d8_area_file, out_file=width_file,\n",
    "             g1=max_river_width, p=channel_width_power)"
   ]
  },
  {
   "cell_type": "markdown",
   "metadata": {},
   "source": [
    "## Compute the Estimated \"Manning's n\" Grid  <a id=\"chan_manning_B\"></a>\n",
    "\n",
    "In order to compute grids of river flow velocity and discharge (volume flow rate), a very well-known, empirical formula known as <b>Manning's formula</b> (see Wikipedia) is the method used by default within TopoFlow.  This formula includes a parameter called <b>Manning's n</b>, that characterizes the roughness of the channel bed and resulting frictional loss of momentum.  Typical values in larger river channels range between 0.03 and 0.05.  Manning's formula can also be used for non-channelized, overland flow, but then a much larger value of 0.2 to 0.3 should be used.\n",
    "\n",
    "The following code uses a power-law estimate of the form:  $n = c \\, A^p$, where A is the total contributing area (TCA) grid, to create a grid of Manning's n values.  The value that n should have where A is maximum (e.g. the river outlet) is set as <b>g1</b>.  Similarly, the value that n should have where A is minimum (e.g. on a ridge) is set as <b>g2</b>.  The coefficient, c, and power, p, are then set to match these constraints."
   ]
  },
  {
   "cell_type": "code",
   "execution_count": 21,
   "metadata": {},
   "outputs": [
    {
     "name": "stdout",
     "output_type": "stream",
     "text": [
      "Power-law parameters are:\n",
      "c = 0.13720441701100003\n",
      "p = -0.39823752366707893\n",
      "Values set to 1.0 where A <= 0.\n",
      "  This occurred at 66 grid cells.\n",
      "grid min = 0.030000001\n",
      "grid_max = 1.0\n",
      "Finished writing file: \n",
      "/Users/laurenbolotin/basins/Gulkana/__topo/Gulkana_chan-n.rtg\n",
      "\n"
     ]
    }
   ],
   "source": [
    "# Should be specified at the top of this notebook.\n",
    "# min_manning_n = 0.03\n",
    "# max_manning_n = 0.2\n",
    "\n",
    "os.chdir( topo_dir )\n",
    "manning_file = site_prefix + '_chan-n.rtg'\n",
    "parameterize.get_grid_from_TCA(site_prefix=site_prefix, topo_dir=topo_dir,\n",
    "             area_file=d8_area_file, out_file=manning_file,\n",
    "             g1=min_manning_n, g2=max_manning_n )"
   ]
  },
  {
   "cell_type": "markdown",
   "metadata": {},
   "source": [
    "## Compute the Estimated Channel Sinuosity Grid  <a id=\"chan_sinu_B\"></a>\n",
    "\n",
    "There are different definitions of channel sinuosity.  Here we are referring to the <b>absolute sinuosity</b>, defined as the ratio of the <b><i>along-channel flow distance</i></b> between the two endpoints of a channel and the <b><i>straight-line distance</i></b> between those endpoints.\n",
    "\n",
    "By this definition, sinuosity is <b>dimensionless</b> \\[km/km\\], with a minimum possible value of 1.0.  It tends to increase slowly from 1 where TCA is small to a larger value where TCA is big, but typically does not exceed 1.3.\n",
    "\n",
    "The following code uses a power-law estimate of the form:  $s = c \\, A^p$, where A is the total contributing area (TCA) grid, to create a grid of sinuosity values.  The value that s should have where A is maximum (e.g. the river outlet) is set as <b>g1</b>.  Similarly, the value that n should have where A is minimum (e.g. near a ridge) is set as <b>g2</b>.  The coefficient, c, and power, p, are then set to match these constraints."
   ]
  },
  {
   "cell_type": "code",
   "execution_count": 22,
   "metadata": {},
   "outputs": [
    {
     "name": "stdout",
     "output_type": "stream",
     "text": [
      "Power-law parameters are:\n",
      "c = 1.0368803092967587\n",
      "p = 0.038272373844145\n",
      "Values set to 1.0 where A <= 0.\n",
      "  This occurred at 66 grid cells.\n",
      "grid min = 0.99999994\n",
      "grid_max = 1.1999999\n",
      "Finished writing file: \n",
      "/Users/laurenbolotin/basins/Gulkana/__topo/Gulkana_sinu.rtg\n",
      "\n"
     ]
    }
   ],
   "source": [
    "# Should be specified at the top of this notebook.\n",
    "# max_sinuosity = 1.3\n",
    "\n",
    "os.chdir( topo_dir )\n",
    "min_sinuosity = 1.0  # (BY DEFINITION.  DO NOT CHANGE.)\n",
    "\n",
    "sinu_file = site_prefix + '_sinu.rtg'\n",
    "parameterize.get_grid_from_TCA(site_prefix=site_prefix, topo_dir=topo_dir,\n",
    "             area_file=d8_area_file, out_file=sinu_file,\n",
    "             g1=max_sinuosity, g2=min_sinuosity )"
   ]
  },
  {
   "cell_type": "markdown",
   "metadata": {},
   "source": [
    "## Compute the Estimated Bankfull Depth Grid  <a id=\"bankfull_d_B\"></a>\n",
    "\n",
    "The <b>bankfull depth</b> is the maximum in-channel water depth of a river at a given location.  (It varies throughout a river basin.)  When the depth of water in a river exceeds this depth, <b>overbank flow</b> occurs and water enters the flood plain adjacent to the channel. <b>Overbank flow depth</b>, <b>inundation depth</b> or simply <b>flooding depth</b> are terms that refer to the depth of water on land outside of the river channel.  It is important to know the bankfull depth in order to more accurately predict the flooding depth. \n",
    "\n",
    "While remote sensing images can be used to estimate a river's bankfull width, the river bed typically cannot be \"seen\" through the water.  Moreover, bankfull depth is typically only measured at a few locations (e.g. at gauging stations) within a river basin, so accurate values of bankfull depth are difficult to obtain.\n",
    "\n",
    "The following code uses a power-law estimate of the form:  $d_b = c \\, A^p$, where A is the total contributing area (TCA) grid, to create a grid of bankfull depth values.  The value that $d_b$ should have where A is maximum (e.g. the river outlet) is set as <b>g1</b>.  A typical, empirical value for p is 0.4. The coefficient, c, is then set to match these constraints."
   ]
  },
  {
   "cell_type": "code",
   "execution_count": 23,
   "metadata": {},
   "outputs": [
    {
     "name": "stdout",
     "output_type": "stream",
     "text": [
      "Power-law parameters are:\n",
      "c = 0.5212455435647868\n",
      "p = 0.4\n",
      "Values set to 1.0 where A <= 0.\n",
      "  This occurred at 66 grid cells.\n",
      "grid min = 0.35699007\n",
      "grid_max = 2.3999999\n",
      "Finished writing file: \n",
      "/Users/laurenbolotin/basins/Gulkana/__topo/Gulkana_d-bank.rtg\n",
      "\n"
     ]
    }
   ],
   "source": [
    "# Should be specified at the top of this notebook.\n",
    "# max_bankfull_depth = 8.0  #### This must be determined from literature or data.\n",
    "# bankfull_depth_power = 0.4\n",
    "\n",
    "os.chdir( topo_dir )\n",
    "dbank_file = site_prefix + '_d-bank.rtg'\n",
    "parameterize.get_grid_from_TCA(site_prefix=site_prefix, topo_dir=topo_dir,\n",
    "        area_file=d8_area_file,  out_file=dbank_file,\n",
    "        g1=max_bankfull_depth, p=bankfull_depth_power )"
   ]
  },
  {
   "cell_type": "markdown",
   "metadata": {},
   "source": [
    "## Compute the Estimated Initial Channel Water Depth Grid  <a id=\"init_depth_B\"></a>\n",
    "\n",
    "Here we attempt to estimate the initial depth of water for every channel in the river network.  This is supposed to be the \"normal depth\" of the river that is maintained by baseflow from groundwater (i.e. due to the groundwater table intersecting the channel bed) and is not attributed to a recent rainfall event.  This is the starting or initial condition for a model run.\n",
    "\n",
    "This routine uses a <b>grid-based Newton-Raphson</b> iterative scheme to solve a transcendental equation (see Wikipedia) for the initial depth of water in a channel network that results from groundwater baseflow.  The variables involved are:\n",
    "\n",
    "w = bed bottom width, trapezoid [m]<br>\n",
    "A = upstream area [$km^2$]<br>\n",
    "S = downstream slope [m/m]<br>\n",
    "n = Manning roughness parameter  [$s/m^{1/3}$]<br>\n",
    "$\\theta$ = bank angle [degrees]<br>\n",
    "d = water depth in channel [m]<br>\n",
    "$A_c$ = wetted cross-section area [$m^2$]<br>\n",
    "P  = wetted cross-section perimeter [m]<br>\n",
    "$R_h = (A_c / P)$ = hydraulic radius [m]<br>\n",
    "B = spatially-uniform baseflow volume flux [$m s^{-1}$]<br>\n",
    "\n",
    "The equations used here are: <br>\n",
    "$Q = v \\, A_c = B \\,A$    [$m^3 s^{-1}$] (steady-state) <br>\n",
    "$v = (1/n) \\, {R_h}^{2/3} \\, S^{1/2} \\,\\,\\,$  [SI units] <br>\n",
    "$R_h = A_c / P$ <br>\n",
    "$A_c = d \\, [w + (d \\, \\tan(\\theta))]$ <br>\n",
    "$P = w + [2 \\, d \\, / \\cos(\\theta)]$ <br>\n",
    "\n",
    "Note that B can be estimated from a baseflow discharge measured at the basin outlet.\n",
    "\n",
    "If we are given w, n, theta, A, S and B, then we get an equation for d that cannot be solved in closed form.  However, we can write the equation $v \\, A_c = B \\, A$ in the form needed to solve for d (in every grid cell) by Newton's method, i.e.:\n",
    "$F(d) = [v(d) \\, A_c(d)] - (B \\, A) = 0$."
   ]
  },
  {
   "cell_type": "code",
   "execution_count": 24,
   "metadata": {},
   "outputs": [
    {
     "name": "stdout",
     "output_type": "stream",
     "text": [
      "Baseflow volume flux = 6.381853073149438e-07 [m s-1]\n",
      "Baseflow volume flux = 2.297467106333798 [mm h-1]\n",
      "size(slope) = 276\n",
      "size(wb) = 66\n",
      "-------------------------------------------------\n",
      "WARNING: Zero or negative slopes found.\n",
      "         Replacing them with smallest slope.\n",
      "         Use \"Profile smoothing tool\" instead.\n",
      "         min(slope) = 0.010082655\n",
      "         max(slope) = 0.49594313\n",
      "-------------------------------------------------\n",
      " \n",
      "Iterating...\n",
      "Pixels left = 276\n",
      "Pixels left = 276\n",
      "Pixels left = 276\n",
      "Pixels left = 276\n",
      "Pixels left = 276\n",
      "Pixels left = 276\n",
      "Pixels left = 276\n",
      "Pixels left = 276\n",
      "Pixels left = 276\n",
      "Pixels left = 276\n",
      "Pixels left = 276\n",
      "Pixels left = 276\n",
      "Pixels left = 276\n",
      "Pixels left = 276\n",
      "Pixels left = 276\n",
      "Pixels left = 274\n",
      "Pixels left = 267\n",
      "Pixels left = 247\n",
      "Pixels left = 233\n",
      "Pixels left = 169\n",
      "Pixels left = 66\n",
      "Pixels left = 66\n",
      "Pixels left = 66\n",
      "Pixels left = 66\n",
      "Pixels left = 0\n",
      "Finished writing file: \n",
      "/Users/laurenbolotin/basins/Gulkana/__topo/Gulkana_d0.rtg\n",
      "d_min = 0.0006527226759138755 [m]\n",
      "d_max = 0.7067721751415519 [m]\n",
      "\n"
     ]
    }
   ],
   "source": [
    "# Should be specified at the top of this notebook.\n",
    "# A_out_km2 = 23567.7  # TCA at basin outlet of Baro River (at Gambella)  [km2]\n",
    "# Qbase_out= 40.0      # estimated baseflow discharge at basin outlet [m^3 / s]\n",
    "\n",
    "os.chdir( topo_dir )\n",
    "B_mps = init_depth.get_baseflow_volume_flux( A_out_km2, Qbase_out, REPORT=True)\n",
    "\n",
    "d0_file = site_prefix + '_d0.rtg'\n",
    "init_depth.compute_initial_depth( site_prefix=site_prefix, topo_dir=topo_dir,\n",
    "           SILENT=False, baseflow_rate=B_mps, bank_angle=bank_angle,\n",
    "           # angle_file=angle_file,\n",
    "           area_file=d8_area_file, slope_file=d8_slope_file,\n",
    "           width_file=width_file, manning_file=manning_file,\n",
    "           sinu_file=sinu_file, d0_file=d0_file)"
   ]
  },
  {
   "cell_type": "markdown",
   "metadata": {},
   "source": [
    "# Run TopoFlow\n",
    "Start by **manually** changing your working directory to the topoflow36 repository in the code block below"
   ]
  },
  {
   "cell_type": "code",
   "execution_count": 2,
   "metadata": {},
   "outputs": [],
   "source": [
    "import os\n",
    "os.chdir('/Users/laurenbolotin/Lauren/TF_Glacier/topoflow36')"
   ]
  },
  {
   "cell_type": "code",
   "execution_count": 3,
   "metadata": {},
   "outputs": [
    {
     "name": "stdout",
     "output_type": "stream",
     "text": [
      "Importing TopoFlow 3.6 package modules:\n",
      "   topoflow.utils\n",
      "   topoflow.utils.tests\n",
      "   topoflow.components\n",
      "   topoflow.components.tests\n",
      "   topoflow.framework\n",
      "   topoflow.framework.tests\n",
      " \n",
      "Importing TopoFlow 3.6 packages:\n",
      "   topoflow.utils\n",
      "   topoflow.utils.tests\n",
      "   topoflow.components\n",
      "   topoflow.components.tests\n",
      "   topoflow.framework\n",
      "   topoflow.framework.tests\n",
      " \n",
      "EMELI: Reading info from provider_file:\n",
      "    /Users/laurenbolotin/basins/WolverineGlacier/Test1_2016-10_to_2017-09_w990_cfg/Test1_providers.txt\n",
      "EMELI: Reading info from comp_repo_file:\n",
      "    /Users/laurenbolotin/Lauren/TF_Glacier/topoflow36/topoflow/framework/component_repository.xml\n",
      "\n",
      "EMELI: Instantiated component: tf_meteorology\n",
      "EMELI: Instantiated component: tf_diversions_fraction_method\n",
      "EMELI: Instantiated component: tf_channels_kin_wave\n",
      "EMELI: Instantiated component: tf_glacier_energy_balance\n",
      "EMELI: Instantiated component: tf_satzone_darcy_layers\n",
      "EMELI: Instantiated component: tf_evap_priestley_taylor\n",
      "EMELI: Instantiated component: tf_infil_richards_1d\n",
      "EMELI: Instantiated component: topoflow_driver\n",
      "Driver component name = topoflow_driver\n",
      " \n",
      "Meteorology component: Initializing...\n",
      "Reading config file into component state.\n",
      "In met_base read_input_files():\n",
      "   time = 0.0\n",
      "   min(P) = 0.0 [mmph]\n",
      "   max(P) = 0.0 [mmph]\n",
      " \n",
      "------------------------------------------\n",
      " NOTE: Since PRECIP_ONLY = True, output\n",
      "       variables for met component will\n",
      "       not be computed or saved to files.\n",
      "       And evap component may not work.\n",
      "------------------------------------------\n",
      "\n",
      "EMELI: Initialized component: tf_meteorology.\n",
      " \n",
      "Diversions component: Initializing...\n",
      "Reading config file into component state.\n",
      "Diversions component: Disabled in CFG file.\n",
      "EMELI: Initialized component: tf_diversions_fraction_method.\n",
      " \n",
      "Channels component: Initializing...\n",
      "Reading config file into component state.\n",
      "CHANNELS calling initialize_d8_vars()...\n",
      "D8 component: Initializing...\n",
      "Reading config file into component state.\n",
      "Reading grid values...\n",
      "Finished reading grid from:\n",
      "  /Users/laurenbolotin/basins/WolverineGlacier/__topo/WolverineGlacier_DEM.rtg\n",
      "   min(DEM), max(DEM) = 116.629555 1626.0746\n",
      "\n",
      "Filling pits in initial DEM...\n",
      "Number of nodata and NaN values = 0\n",
      "Finished initializing \"closed\" array.\n",
      " \n",
      "Putting boundary pixels on heap...\n",
      "Number of pixels on heap = 178\n",
      "Finished with heap insertion.\n",
      " \n",
      "n_closed = 0 of 2040\n",
      "Total pixels   = 2040\n",
      "Raised  pixels = 0\n",
      "Drained pixels = 2042\n",
      "Run time for fill_pits() =     0.0111 [seconds]\n",
      "Finished with fill_pits().\n",
      " \n",
      "Imported netCDF4 version: 1.6.4\n",
      "D8 component: Updating...\n",
      "Updating D8 flow grid...\n",
      "   update_d8_codes(): Initializing grid...\n",
      "   --------------------------------------------\n",
      "   Data type of flow grid at start = int16\n",
      "   Number of flats         = 14\n",
      "   Number of 1-pixel pits  = 2\n",
      "   Number of nodata/NaN    = 0\n",
      "   min(codes), max(codes)  = -161, 128\n",
      "   --------------------------------------------\n",
      "   update_d8_codes(): Breaking ties...\n",
      "   update_d8_codes(): Linking flats...\n",
      "   Number of iterations = 5 (in link_flats())\n",
      "Updating flow width grid...\n",
      "    min(dw), max(dw) = 152.88092, 345.41495 [m]\n",
      "Updating flow length grid...\n",
      "    min(ds), max(ds) = 152.88092, 345.41495 [m]\n",
      "Updating upstream area grid...\n",
      "    min(A), max(A) = 0.0, 45.3265 [km^2]\n",
      "    Number of iterations = 56\n",
      "Saving D8 grids specified in CFG file...\n",
      "CHANNELS calling read_input_files()...\n",
      "CHANNELS calling set_computed_input_vars()...\n",
      "CHANNELS calling initialize_computed_vars()...\n",
      "    min(nval)       = 0.030000003054738045\n",
      "    max(nval)       = 1.0\n",
      "    min(width)      = 0.335387259721756\n",
      "    max(width)      = 10.380000114440918\n",
      "    min(angle)      = 29.999999999999996 [deg]\n",
      "    max(angle)      = 29.999999999999996 [deg]\n",
      "    min(sinuosity)  = 1.0\n",
      "    max(sinuosity)  = 1.0\n",
      "    min(init_depth) = 0.0006527226651087403\n",
      "    max(init_depth) = 1.7437388896942139\n",
      "Initializing u, f, d grids...\n",
      "Total number of slope values = 2040\n",
      "Number of zero values        = 180 (maybe edge)\n",
      "Number of negative values    = 0\n",
      "Number of NaN values         = 0\n",
      "Number of infinite values    = 0\n",
      "-------------------------------------------------\n",
      "WARNING: Zero, negative or NaN slopes found.\n",
      "         Replacing them with smallest slope.\n",
      "         Consider using \"new_slopes.py\" instead.\n",
      "         min(S) = 0.001125682727433741\n",
      "         max(S) = 0.9426796436309814\n",
      "-------------------------------------------------\n",
      "\n",
      "Imported netCDF4 version: 1.6.4\n",
      "EMELI: Initialized component: tf_channels_kin_wave.\n",
      " \n",
      "Glacier component: Initializing...\n",
      "Reading config file into component state.\n",
      "0.125\n",
      "Imported netCDF4 version: 1.6.4\n",
      "EMELI: Initialized component: tf_glacier_energy_balance.\n",
      " \n",
      "Groundwater component: Initializing...\n",
      "Reading config file into component state.\n",
      "Groundwater component: Disabled in CFG file.\n",
      "EMELI: Initialized component: tf_satzone_darcy_layers.\n",
      " \n",
      "Evaporation component: Initializing...\n",
      "Reading config file into component state.\n",
      "Evaporation component: Disabled in CFG file.\n",
      "EMELI: Initialized component: tf_evap_priestley_taylor.\n",
      " \n",
      "Infiltration component: Initializing...\n",
      "Reading config file into component state.\n",
      "Infiltration component: Disabled in CFG file.\n",
      "EMELI: Initialized component: tf_infil_richards_1d.\n",
      "\n",
      "TopoFlow component: Initializing...\n",
      "Reading config file into component state.\n",
      "Setting stop method to: Until_model_time\n",
      "Opening log file:\n",
      "    log_file = /Users/laurenbolotin/output/WolverineAK/Test1.log\n",
      "Starting TopoFlow model run...\n",
      "EMELI: Initialized component: topoflow_driver.\n",
      "\n",
      "EMELI: Component time step sizes =\n",
      "    tf_meteorology = 3600.0 [seconds]\n",
      "    tf_diversions_fraction_method is Disabled.\n",
      "    tf_channels_kin_wave = 2.0 [seconds]\n",
      "    tf_glacier_energy_balance = 3600.0 [seconds]\n",
      "    tf_satzone_darcy_layers is Disabled.\n",
      "    tf_evap_priestley_taylor is Disabled.\n",
      "    tf_infil_richards_1d is Disabled.\n",
      "    topoflow_driver = 2.0 [seconds]\n",
      "Converting all time step units to seconds...\n",
      "Component with smallest time step is: tf_channels_kin_wave\n",
      "\n",
      "Time interpolation method = Linear\n",
      "\n",
      "Will print values every 0.5 seconds.\n",
      "Time =      34.60 [min],  Q_out =    0.02146 [m^3/s]\n",
      "Time =      69.77 [min],  Q_out =    0.01041 [m^3/s]\n",
      "Time =     105.77 [min],  Q_out =    0.00299 [m^3/s]\n",
      "Time =     143.47 [min],  Q_out =    0.00122 [m^3/s]\n",
      "Time =     181.63 [min],  Q_out =    0.00062 [m^3/s]\n",
      "Time =     220.83 [min],  Q_out =    0.00036 [m^3/s]\n",
      "Time =     258.83 [min],  Q_out =    0.00023 [m^3/s]\n",
      "Time =     297.63 [min],  Q_out =    0.00016 [m^3/s]\n",
      "Time =     335.57 [min],  Q_out =    0.00011 [m^3/s]\n",
      "Time =     372.53 [min],  Q_out =    0.00009 [m^3/s]\n",
      "Time =     410.97 [min],  Q_out =    0.00007 [m^3/s]\n",
      "Time =     448.93 [min],  Q_out =    0.00005 [m^3/s]\n",
      "Time =     485.57 [min],  Q_out =    0.00004 [m^3/s]\n",
      "Time =     523.77 [min],  Q_out =    0.00004 [m^3/s]\n",
      "Time =     560.30 [min],  Q_out =    0.00003 [m^3/s]\n",
      "Time =     598.87 [min],  Q_out =    0.00002 [m^3/s]\n",
      "Time =     636.07 [min],  Q_out =    0.00002 [m^3/s]\n",
      "Time =     672.53 [min],  Q_out =    0.00002 [m^3/s]\n"
     ]
    },
    {
     "ename": "KeyboardInterrupt",
     "evalue": "",
     "output_type": "error",
     "traceback": [
      "\u001b[0;31m---------------------------------------------------------------------------\u001b[0m",
      "\u001b[0;31mKeyboardInterrupt\u001b[0m                         Traceback (most recent call last)",
      "\u001b[1;32m/Users/laurenbolotin/Lauren/TF_Glacier/topoflow36/notebooks/TopoFlow_Glacier_AK_Demo.ipynb Cell 49\u001b[0m line \u001b[0;36m9\n\u001b[1;32m      <a href='vscode-notebook-cell:/Users/laurenbolotin/Lauren/TF_Glacier/topoflow36/notebooks/TopoFlow_Glacier_AK_Demo.ipynb#X66sZmlsZQ%3D%3D?line=6'>7</a>\u001b[0m cfg_prefix    \u001b[39m=\u001b[39m \u001b[39m'\u001b[39m\u001b[39mTest1\u001b[39m\u001b[39m'\u001b[39m\n\u001b[1;32m      <a href='vscode-notebook-cell:/Users/laurenbolotin/Lauren/TF_Glacier/topoflow36/notebooks/TopoFlow_Glacier_AK_Demo.ipynb#X66sZmlsZQ%3D%3D?line=7'>8</a>\u001b[0m cfg_dir \u001b[39m=\u001b[39m cfg_directory\n\u001b[0;32m----> <a href='vscode-notebook-cell:/Users/laurenbolotin/Lauren/TF_Glacier/topoflow36/notebooks/TopoFlow_Glacier_AK_Demo.ipynb#X66sZmlsZQ%3D%3D?line=8'>9</a>\u001b[0m main\u001b[39m.\u001b[39;49mrun_model(cfg_prefix\u001b[39m=\u001b[39;49mcfg_prefix, cfg_directory\u001b[39m=\u001b[39;49mcfg_dir,\n\u001b[1;32m     <a href='vscode-notebook-cell:/Users/laurenbolotin/Lauren/TF_Glacier/topoflow36/notebooks/TopoFlow_Glacier_AK_Demo.ipynb#X66sZmlsZQ%3D%3D?line=9'>10</a>\u001b[0m                time_interp_method\u001b[39m=\u001b[39;49m\u001b[39m'\u001b[39;49m\u001b[39mLinear\u001b[39;49m\u001b[39m'\u001b[39;49m)\n",
      "File \u001b[0;32m~/Lauren/TF_Glacier/topoflow36/topoflow/main.py:36\u001b[0m, in \u001b[0;36mrun_model\u001b[0;34m(driver_comp_name, cfg_prefix, cfg_directory, SILENT, time_interp_method)\u001b[0m\n\u001b[1;32m     33\u001b[0m \u001b[39mif\u001b[39;00m (cfg_directory \u001b[39m==\u001b[39m \u001b[39mNone\u001b[39;00m):\n\u001b[1;32m     34\u001b[0m     cfg_directory \u001b[39m=\u001b[39m examples_dir \u001b[39m+\u001b[39m \u001b[39m'\u001b[39m\u001b[39mTreynor_Iowa_30m/\u001b[39m\u001b[39m'\u001b[39m\n\u001b[0;32m---> 36\u001b[0m f\u001b[39m.\u001b[39;49mrun_model( driver_comp_name \u001b[39m=\u001b[39;49mdriver_comp_name ,\n\u001b[1;32m     37\u001b[0m              cfg_prefix\u001b[39m=\u001b[39;49mcfg_prefix,\n\u001b[1;32m     38\u001b[0m              cfg_directory\u001b[39m=\u001b[39;49mcfg_directory,\n\u001b[1;32m     39\u001b[0m              SILENT\u001b[39m=\u001b[39;49mSILENT,\n\u001b[1;32m     40\u001b[0m              time_interp_method\u001b[39m=\u001b[39;49mtime_interp_method )\n",
      "File \u001b[0;32m~/Lauren/TF_Glacier/topoflow36/topoflow/framework/emeli.py:1057\u001b[0m, in \u001b[0;36mframework.run_model\u001b[0;34m(self, driver_comp_name, cfg_directory, cfg_prefix, SILENT, time_interp_method)\u001b[0m\n\u001b[1;32m   1054\u001b[0m \u001b[39mself\u001b[39m\u001b[39m.\u001b[39mget_required_vars( comp_name, bmi_time )\n\u001b[1;32m   1056\u001b[0m \u001b[39mif\u001b[39;00m (bmi\u001b[39m.\u001b[39mcomp_status \u001b[39m==\u001b[39m \u001b[39m'\u001b[39m\u001b[39mEnabled\u001b[39m\u001b[39m'\u001b[39m):   \u001b[39m######## 2021-07\u001b[39;00m\n\u001b[0;32m-> 1057\u001b[0m     bmi\u001b[39m.\u001b[39;49mupdate()\n\u001b[1;32m   1059\u001b[0m \u001b[39m#--------------------------------------------------\u001b[39;00m\n\u001b[1;32m   1060\u001b[0m \u001b[39m# Update time interpolation vars for every\u001b[39;00m\n\u001b[1;32m   1061\u001b[0m \u001b[39m# long_var_name that is provided by this provider.\u001b[39;00m\n\u001b[1;32m   1062\u001b[0m \u001b[39m# Interpolation methods = 'None', 'Linear', etc.\u001b[39;00m\n\u001b[1;32m   1063\u001b[0m \u001b[39m#--------------------------------------------------\u001b[39;00m\n\u001b[1;32m   1064\u001b[0m time_interpolator\u001b[39m.\u001b[39mupdate2( comp_name )\n",
      "File \u001b[0;32m~/Lauren/TF_Glacier/topoflow36/topoflow/components/channels_base.py:915\u001b[0m, in \u001b[0;36mchannels_component.update\u001b[0;34m(self, dt)\u001b[0m\n\u001b[1;32m    913\u001b[0m \u001b[39mself\u001b[39m\u001b[39m.\u001b[39mupdate_peak_values()\n\u001b[1;32m    914\u001b[0m \u001b[39mif\u001b[39;00m (DEBUG): \u001b[39mprint\u001b[39m(\u001b[39m'\u001b[39m\u001b[39m#### Calling update_Q_out_integral()...\u001b[39m\u001b[39m'\u001b[39m)\n\u001b[0;32m--> 915\u001b[0m \u001b[39mself\u001b[39;49m\u001b[39m.\u001b[39;49mupdate_Q_out_integral()\n\u001b[1;32m    916\u001b[0m \u001b[39mif\u001b[39;00m (DEBUG): \u001b[39mprint\u001b[39m(\u001b[39m'\u001b[39m\u001b[39m#### Calling update_edge_values()...\u001b[39m\u001b[39m'\u001b[39m)\n\u001b[1;32m    917\u001b[0m \u001b[39mself\u001b[39m\u001b[39m.\u001b[39mupdate_edge_values()\n",
      "File \u001b[0;32m~/Lauren/TF_Glacier/topoflow36/topoflow/components/channels_base.py:2930\u001b[0m, in \u001b[0;36mchannels_component.update_Q_out_integral\u001b[0;34m(self)\u001b[0m\n\u001b[1;32m   2924\u001b[0m \u001b[39mdef\u001b[39;00m \u001b[39mupdate_Q_out_integral\u001b[39m(\u001b[39mself\u001b[39m):\n\u001b[1;32m   2925\u001b[0m \n\u001b[1;32m   2926\u001b[0m     \u001b[39m#--------------------------------------------------------\u001b[39;00m\n\u001b[1;32m   2927\u001b[0m     \u001b[39m# Note: Renamed \"volume_out\" to \"vol_Q\" for consistency\u001b[39;00m\n\u001b[1;32m   2928\u001b[0m     \u001b[39m# with vol_P, vol_SM, vol_IN, vol_ET, etc. (5/18/12)\u001b[39;00m\n\u001b[1;32m   2929\u001b[0m     \u001b[39m#--------------------------------------------------------\u001b[39;00m\n\u001b[0;32m-> 2930\u001b[0m     \u001b[39mself\u001b[39m\u001b[39m.\u001b[39mvol_Q \u001b[39m+\u001b[39m\u001b[39m=\u001b[39m (\u001b[39mself\u001b[39m\u001b[39m.\u001b[39mQ_outlet \u001b[39m*\u001b[39m \u001b[39mself\u001b[39m\u001b[39m.\u001b[39mdt)\n",
      "\u001b[0;31mKeyboardInterrupt\u001b[0m: "
     ]
    }
   ],
   "source": [
    "\n",
    "from topoflow.framework import emeli\n",
    "from topoflow import main\n",
    "\n",
    "cfg_directory = '../../../basins/Gulkana/Test1_2012-10_to_2015-09_g1480_cfg' \n",
    "\n",
    "# Run this cell to run the model\n",
    "cfg_prefix    = 'Test1'\n",
    "cfg_dir = cfg_directory\n",
    "main.run_model(cfg_prefix=cfg_prefix, cfg_directory=cfg_dir,\n",
    "               time_interp_method='Linear')"
   ]
  }
 ],
 "metadata": {
  "kernelspec": {
   "display_name": "tf36",
   "language": "python",
   "name": "python3"
  },
  "language_info": {
   "codemirror_mode": {
    "name": "ipython",
    "version": 3
   },
   "file_extension": ".py",
   "mimetype": "text/x-python",
   "name": "python",
   "nbconvert_exporter": "python",
   "pygments_lexer": "ipython3",
   "version": "3.9.17"
  }
 },
 "nbformat": 4,
 "nbformat_minor": 2
}
